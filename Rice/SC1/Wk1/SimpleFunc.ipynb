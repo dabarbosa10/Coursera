{
 "cells": [
  {
   "cell_type": "code",
   "execution_count": 1,
   "id": "1cfd8338",
   "metadata": {},
   "outputs": [],
   "source": [
    "def miles_to_feet(ft):\n",
    "    return 5280*ft\n",
    "def test(miles):\n",
    "    print(str(miles)+\"miles equals\", str(miles_to_feet(miles)) + \" feet.\")"
   ]
  },
  {
   "cell_type": "code",
   "execution_count": 2,
   "id": "87e54d55",
   "metadata": {},
   "outputs": [
    {
     "name": "stdout",
     "output_type": "stream",
     "text": [
      "13miles equals 68640 feet.\n",
      "57miles equals 300960 feet.\n",
      "82.67miles equals 436497.60000000003 feet.\n"
     ]
    }
   ],
   "source": [
    "test(13)\n",
    "test(57)\n",
    "test(82.67)"
   ]
  },
  {
   "cell_type": "markdown",
   "id": "0711c86a",
   "metadata": {},
   "source": [
    "### Future value is a common concept used in finance to calculate\n",
    "### the value of cash flow at a later date and it is computed using the formula\n",
    "\n",
    "### $F_{value}=C_{0}(1+r)^n$\n",
    "\n",
    "### Where $C_0$ is the present value, $r$ is the rate of return and $n$ is the number of periods.\n",
    "\n"
   ]
  },
  {
   "cell_type": "code",
   "execution_count": 3,
   "id": "9d56656e",
   "metadata": {},
   "outputs": [],
   "source": [
    "def future_value(pv, ar, y):\n",
    "    return pv*(1+ar/100)**y"
   ]
  },
  {
   "cell_type": "code",
   "execution_count": 4,
   "id": "2b3f2f98",
   "metadata": {},
   "outputs": [],
   "source": [
    "def test(present_value,annual_rate,years):\n",
    "    print(\"The future value of $ \"+ str(present_value)+ \" in \" + str(years), \n",
    "         \" years at an annual rate of \" + str(annual_rate)+ \"% is\", \" $\"+ str(future_value(present_value, annual_rate, years)))"
   ]
  },
  {
   "cell_type": "code",
   "execution_count": 5,
   "id": "92da0647",
   "metadata": {},
   "outputs": [
    {
     "name": "stdout",
     "output_type": "stream",
     "text": [
      "The future value of $ 1000 in 10  years at an annual rate of 7% is  $1967.1513572895665\n",
      "The future value of $ 200 in 5  years at an annual rate of 4% is  $243.33058048000004\n",
      "The future value of $ 1000 in 20  years at an annual rate of 3% is  $1806.111234669415\n"
     ]
    }
   ],
   "source": [
    "test(1000,7,10)\n",
    "test(200,4,5)\n",
    "test(1000,3,20)"
   ]
  },
  {
   "cell_type": "markdown",
   "id": "8cbe7883",
   "metadata": {},
   "source": [
    "### Distance\n",
    "\n",
    "The distance between two points located at $x_0, y_0$ and $x_1, y_1$ in an plane can be computed using the pythagorean theorem:\n",
    "$dist=\\sqrt{(x_0-x_1)^2 +(y_0-y_1)^2}$"
   ]
  },
  {
   "cell_type": "code",
   "execution_count": 6,
   "id": "7cbc347a",
   "metadata": {},
   "outputs": [],
   "source": [
    "import math\n",
    "\n",
    "def dist(X0,Y0,X1,Y1):\n",
    "    return math.sqrt((X0-X1)**2 +(Y0-Y1)**2)\n",
    "    \n",
    "def test(x0, y0, x1, y1):\n",
    "    print(\"The distance from (\" + str(x0) + \", \" + str(y0) + \") to \",  \" ( \" + str(x1) + \", \" + str(y1) + \") is\",\n",
    "          str(dist(x0, y0, x1, y1)) + \".\")    "
   ]
  },
  {
   "cell_type": "code",
   "execution_count": 7,
   "id": "7aecdeac",
   "metadata": {},
   "outputs": [
    {
     "name": "stdout",
     "output_type": "stream",
     "text": [
      "The distance from (2, 2) to   ( 5, 6) is 5.0.\n",
      "The distance from (1, 1) to   ( 2, 2) is 1.4142135623730951.\n",
      "The distance from (0, 0) to   ( 3, 4) is 5.0.\n"
     ]
    }
   ],
   "source": [
    "test(2, 2, 5, 6)\n",
    "test(1, 1, 2, 2)\n",
    "test(0, 0, 3, 4)"
   ]
  },
  {
   "cell_type": "markdown",
   "id": "b09640a5",
   "metadata": {},
   "source": [
    "### Heron formula:\n",
    "\n",
    "The area of a triangle whose sides have lenghts a,b,c is\n",
    "$A=\\sqrt{s(s-a)(s-b)(s-c)}$\n",
    "\n",
    "where $s$ is the semi-perimeter of the triangle, that is:\n",
    "$s=\\frac{a+b+c}{2}$"
   ]
  },
  {
   "cell_type": "code",
   "execution_count": 8,
   "id": "cecade3f",
   "metadata": {},
   "outputs": [],
   "source": [
    "def heron(x0,y0,x1,y1,x2,y2):\n",
    "    a=dist(x0,y0,x1,y1)\n",
    "    b=dist(x0,y0,x2,y2)\n",
    "    c=dist(x1,y1,x2,y2)\n",
    "    s=(a+b+c)/2\n",
    "    return math.sqrt(s*(s-a)*(s-b)*(s-c))"
   ]
  },
  {
   "cell_type": "code",
   "execution_count": 9,
   "id": "13d0c803",
   "metadata": {},
   "outputs": [],
   "source": [
    "def test(x0, y0, x1, y1, x2, y2):\n",
    "    print(\"A triangle with vertices (\" + str(x0) + \",\" + str(y0) + \"),\", \"(\" + str(x1) + \",\" + str(y1) + \"), and\",\n",
    "          \"(\" + str(x2) + \",\" + str(y2) + \") has an area of\",\n",
    "          str(heron(x0, y0, x1, y1, x2, y2)) + \".\")"
   ]
  },
  {
   "cell_type": "code",
   "execution_count": 10,
   "id": "669529df",
   "metadata": {},
   "outputs": [
    {
     "name": "stdout",
     "output_type": "stream",
     "text": [
      "A triangle with vertices (0,0), (3,4), and (1,1) has an area of 0.4999999999999906.\n",
      "A triangle with vertices (-2,4), (1,6), and (2,1) has an area of 8.5.\n",
      "A triangle with vertices (10,0), (0,0), and (0,10) has an area of 50.0.\n"
     ]
    }
   ],
   "source": [
    "test(0, 0, 3, 4, 1, 1)\n",
    "test(-2, 4, 1, 6, 2, 1)\n",
    "test(10, 0, 0, 0, 0, 10)\n",
    "\n"
   ]
  },
  {
   "cell_type": "code",
   "execution_count": 11,
   "id": "dc974796",
   "metadata": {},
   "outputs": [],
   "source": [
    "def print_digits(dig):\n",
    "    tens=dig//10\n",
    "    ones=dig%10\n",
    "    print(\"The tens digits is \" +str(tens) + \", and the ones digits is \" + str(ones)+ \".\")"
   ]
  },
  {
   "cell_type": "code",
   "execution_count": 12,
   "id": "b51aaf5d",
   "metadata": {},
   "outputs": [
    {
     "name": "stdout",
     "output_type": "stream",
     "text": [
      "The tens digits is 4, and the ones digits is 2.\n",
      "The tens digits is 9, and the ones digits is 9.\n",
      "The tens digits is 0, and the ones digits is 5.\n"
     ]
    }
   ],
   "source": [
    "print_digits(42)\n",
    "print_digits(99)\n",
    "print_digits(5)"
   ]
  },
  {
   "cell_type": "code",
   "execution_count": 13,
   "id": "48f2bba9",
   "metadata": {},
   "outputs": [],
   "source": [
    "import random"
   ]
  },
  {
   "cell_type": "code",
   "execution_count": 14,
   "id": "10c25e9d",
   "metadata": {},
   "outputs": [],
   "source": [
    "def powerball():\n",
    "    print(\"Today's numbers are \"+ str(random.randrange(1,60))+\", \"+ str(random.randrange(1,60)) +\", \" +\n",
    "                                  str(random.randrange(1,60))+\", \" +str(random.randrange(1,60))+\".\" )\n",
    "    print(\"\\nThe Powerball number is \" +str(random.randrange(1,36)))\n",
    "    print(\"\\n\")"
   ]
  },
  {
   "cell_type": "code",
   "execution_count": 15,
   "id": "84ae72b2",
   "metadata": {},
   "outputs": [
    {
     "name": "stdout",
     "output_type": "stream",
     "text": [
      "Today's numbers are 21, 2, 46, 43.\n",
      "\n",
      "The Powerball number is 17\n",
      "\n",
      "\n",
      "Today's numbers are 37, 8, 46, 54.\n",
      "\n",
      "The Powerball number is 4\n",
      "\n",
      "\n",
      "Today's numbers are 22, 7, 14, 53.\n",
      "\n",
      "The Powerball number is 29\n",
      "\n",
      "\n"
     ]
    }
   ],
   "source": [
    "powerball()\n",
    "powerball()\n",
    "powerball()"
   ]
  },
  {
   "cell_type": "code",
   "execution_count": null,
   "id": "ba7a4030",
   "metadata": {},
   "outputs": [],
   "source": []
  }
 ],
 "metadata": {
  "kernelspec": {
   "display_name": "Python 3",
   "language": "python",
   "name": "python3"
  },
  "language_info": {
   "codemirror_mode": {
    "name": "ipython",
    "version": 3
   },
   "file_extension": ".py",
   "mimetype": "text/x-python",
   "name": "python",
   "nbconvert_exporter": "python",
   "pygments_lexer": "ipython3",
   "version": "3.7.6"
  }
 },
 "nbformat": 4,
 "nbformat_minor": 5
}
