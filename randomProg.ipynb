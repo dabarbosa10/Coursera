{
  "nbformat": 4,
  "nbformat_minor": 0,
  "metadata": {
    "colab": {
      "name": "randomProg.ipynb",
      "provenance": []
    },
    "kernelspec": {
      "name": "python3",
      "display_name": "Python 3"
    }
  },
  "cells": [
    {
      "cell_type": "code",
      "metadata": {
        "id": "wh1EMbRxSENj"
      },
      "source": [
        "import random\n",
        "import math \n",
        "import pylab"
      ],
      "execution_count": 2,
      "outputs": []
    },
    {
      "cell_type": "code",
      "metadata": {
        "id": "6l1bFJYbUzPO"
      },
      "source": [
        "def direct_pi(N):\n",
        "    n_hits = 0\n",
        "    for i in range(N):\n",
        "        x, y = random.uniform(-1.0, 1.0), random.uniform(-1.0, 1.0)\n",
        "        if x ** 2 + y ** 2 < 1.0:\n",
        "            n_hits += 1\n",
        "    return n_hits\n",
        "\n",
        "n_runs = 500\n",
        "n_trials_list = []\n",
        "sigmasqs = []\n",
        "for poweroftwo in range(4, 13):\n",
        "    n_trials = 2 ** poweroftwo\n",
        "    sigmasq = 0.0\n",
        "    for run in range(n_runs):\n",
        "        pi_est = 4.0 * direct_pi(n_trials) / float(n_trials)\n",
        "        sigmasq += (pi_est - math.pi) ** 2\n",
        "    sigmasqs.append(math.sqrt(sigmasq/(n_runs)))\n",
        "    n_trials_list.append(n_trials)"
      ],
      "execution_count": 6,
      "outputs": []
    },
    {
      "cell_type": "code",
      "metadata": {
        "colab": {
          "base_uri": "https://localhost:8080/",
          "height": 299
        },
        "id": "Y_Jtr_NtU_Tl",
        "outputId": "4e5c047c-5517-4d41-9050-f6f7dc78e559"
      },
      "source": [
        "pylab.plot(n_trials_list, sigmasqs, 'o')\n",
        "pylab.xscale('log')\n",
        "pylab.yscale('log')\n",
        "pylab.xlabel('number of trials')\n",
        "pylab.ylabel('root mean square deviation')\n",
        "pylab.title('Direct sampling of pi: root mean square deviation vs. n_trials')\n",
        "pylab.savefig('direct_sampling_rms_deviation.png')\n",
        "pylab.show()"
      ],
      "execution_count": 7,
      "outputs": [
        {
          "output_type": "display_data",
          "data": {
            "image/png": "[encoded data removed]",
            "text/plain": [
              "<Figure size 432x288 with 1 Axes>"
            ]
          },
          "metadata": {
            "tags": [],
            "needs_background": "light"
          }
        }
      ]
    },
    {
      "cell_type": "code",
      "metadata": {
        "colab": {
          "base_uri": "https://localhost:8080/",
          "height": 468
        },
        "id": "O2Fasq_DV9Lv",
        "outputId": "dbcd18df-a147-4cf5-af19-01885a08faa8"
      },
      "source": [
        "import random, math, pylab\n",
        "\n",
        "def dist(x, y):\n",
        "    return math.sqrt((x[0] - y[0]) ** 2 + (x[1] - y[1]) ** 2)\n",
        "\n",
        "def tour_length(cities, N):\n",
        "    return sum(dist(cities[k + 1], cities[k]) for k in range(N - 1)) + dist(cities[0], cities[N - 1])\n",
        "\n",
        "N = 10\n",
        "random.seed(54321)\n",
        "cities = [(random.uniform(0.0, 1.0), random.uniform(0.0, 1.0)) for i in range(N)]\n",
        "random.seed()\n",
        "energy_min = float('inf')\n",
        "for sample in range(1000000):\n",
        "    random.shuffle(cities)\n",
        "    energy =  tour_length(cities, N)\n",
        "    if energy < energy_min:\n",
        "        print(sample, energy)\n",
        "        energy_min = energy\n",
        "        new_cities = cities[:]\n",
        "cities = new_cities[:]\n",
        "for i in range(1,N):\n",
        "    pylab.plot([cities[i][0], cities[i - 1][0]], [cities[i][1], cities[i - 1][1]], 'bo-')\n",
        "pylab.plot([cities[0][0], cities[N - 1][0]], [cities[0][1], cities[N - 1][1]], 'bo-')\n",
        "pylab.title(str(energy_min))\n",
        "pylab.axis('scaled')\n",
        "pylab.axis([0.0, 1.0, 0.0, 1.0])\n",
        "pylab.savefig('plot_tsp_direct_sampling_N' + str(N) + '_energy' + str(energy_min) + '.png')\n",
        "pylab.show()"
      ],
      "execution_count": 18,
      "outputs": [
        {
          "output_type": "stream",
          "text": [
            "0 4.818873586656932\n",
            "1 4.18460445453475\n",
            "8 4.0426041365381\n",
            "32 3.860125933034019\n",
            "59 3.566389908879529\n",
            "1811 3.541673823408693\n",
            "3881 3.3119657222465895\n",
            "6921 3.111024301748857\n",
            "13090 3.0038195741738227\n",
            "22482 2.812802184648819\n",
            "95313 2.7771400994830526\n"
          ],
          "name": "stdout"
        },
        {
          "output_type": "display_data",
          "data": {
            "image/png": "[encoded data removed]",
            "text/plain": [
              "<Figure size 432x288 with 1 Axes>"
            ]
          },
          "metadata": {
            "tags": [],
            "needs_background": "light"
          }
        }
      ]
    },
    {
      "cell_type": "code",
      "metadata": {
        "id": "rFNOtOhaWpTy"
      },
      "source": [
        ""
      ],
      "execution_count": null,
      "outputs": []
    }
  ]
}