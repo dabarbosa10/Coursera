{
  "nbformat": 4,
  "nbformat_minor": 0,
  "metadata": {
    "colab": {
      "name": "GAN01.ipynb",
      "provenance": []
    },
    "kernelspec": {
      "name": "python3",
      "display_name": "Python 3"
    },
    "language_info": {
      "name": "python"
    }
  },
  "cells": [
    {
      "cell_type": "code",
      "metadata": {
        "id": "4jnskwJrM4NK"
      },
      "source": [
        "#Create a GAN that can generate hand-written images of digits (0-9)"
      ],
      "execution_count": null,
      "outputs": []
    },
    {
      "cell_type": "code",
      "metadata": {
        "id": "4SAwd7lmNEgQ"
      },
      "source": [
        "import torch\n",
        "from torch import nn\n",
        "from tqdm.auto import tqdm"
      ],
      "execution_count": null,
      "outputs": []
    },
    {
      "cell_type": "code",
      "metadata": {
        "colab": {
          "base_uri": "https://localhost:8080/"
        },
        "id": "3rP41WsSNVDZ",
        "outputId": "95f6ea00-2050-43b7-bbc3-5fede6f3ac37"
      },
      "source": [
        "help(tqdm)"
      ],
      "execution_count": null,
      "outputs": [
        {
          "output_type": "stream",
          "text": [
            "Help on class tqdm_notebook in module tqdm.notebook:\n",
            "\n",
            "class tqdm_notebook(tqdm.std.tqdm)\n",
            " |  tqdm_notebook(*args, **kwargs)\n",
            " |  \n",
            " |  Experimental IPython/Jupyter Notebook widget using tqdm!\n",
            " |  \n",
            " |  Method resolution order:\n",
            " |      tqdm_notebook\n",
            " |      tqdm.std.tqdm\n",
            " |      tqdm.utils.Comparable\n",
            " |      builtins.object\n",
            " |  \n",
            " |  Methods defined here:\n",
            " |  \n",
            " |  __init__(self, *args, **kwargs)\n",
            " |      Parameters\n",
            " |      ----------\n",
            " |      iterable  : iterable, optional\n",
            " |          Iterable to decorate with a progressbar.\n",
            " |          Leave blank to manually manage the updates.\n",
            " |      desc  : str, optional\n",
            " |          Prefix for the progressbar.\n",
            " |      total  : int or float, optional\n",
            " |          The number of expected iterations. If unspecified,\n",
            " |          len(iterable) is used if possible. If float(\"inf\") or as a last\n",
            " |          resort, only basic progress statistics are displayed\n",
            " |          (no ETA, no progressbar).\n",
            " |          If `gui` is True and this parameter needs subsequent updating,\n",
            " |          specify an initial arbitrary large positive number,\n",
            " |          e.g. 9e9.\n",
            " |      leave  : bool, optional\n",
            " |          If [default: True], keeps all traces of the progressbar\n",
            " |          upon termination of iteration.\n",
            " |          If `None`, will leave only if `position` is `0`.\n",
            " |      file  : `io.TextIOWrapper` or `io.StringIO`, optional\n",
            " |          Specifies where to output the progress messages\n",
            " |          (default: sys.stderr). Uses `file.write(str)` and `file.flush()`\n",
            " |          methods.  For encoding, see `write_bytes`.\n",
            " |      ncols  : int, optional\n",
            " |          The width of the entire output message. If specified,\n",
            " |          dynamically resizes the progressbar to stay within this bound.\n",
            " |          If unspecified, attempts to use environment width. The\n",
            " |          fallback is a meter width of 10 and no limit for the counter and\n",
            " |          statistics. If 0, will not print any meter (only stats).\n",
            " |      mininterval  : float, optional\n",
            " |          Minimum progress display update interval [default: 0.1] seconds.\n",
            " |      maxinterval  : float, optional\n",
            " |          Maximum progress display update interval [default: 10] seconds.\n",
            " |          Automatically adjusts `miniters` to correspond to `mininterval`\n",
            " |          after long display update lag. Only works if `dynamic_miniters`\n",
            " |          or monitor thread is enabled.\n",
            " |      miniters  : int or float, optional\n",
            " |          Minimum progress display update interval, in iterations.\n",
            " |          If 0 and `dynamic_miniters`, will automatically adjust to equal\n",
            " |          `mininterval` (more CPU efficient, good for tight loops).\n",
            " |          If > 0, will skip display of specified number of iterations.\n",
            " |          Tweak this and `mininterval` to get very efficient loops.\n",
            " |          If your progress is erratic with both fast and slow iterations\n",
            " |          (network, skipping items, etc) you should set miniters=1.\n",
            " |      ascii  : bool or str, optional\n",
            " |          If unspecified or False, use unicode (smooth blocks) to fill\n",
            " |          the meter. The fallback is to use ASCII characters \" 123456789#\".\n",
            " |      disable  : bool, optional\n",
            " |          Whether to disable the entire progressbar wrapper\n",
            " |          [default: False]. If set to None, disable on non-TTY.\n",
            " |      unit  : str, optional\n",
            " |          String that will be used to define the unit of each iteration\n",
            " |          [default: it].\n",
            " |      unit_scale  : bool or int or float, optional\n",
            " |          If 1 or True, the number of iterations will be reduced/scaled\n",
            " |          automatically and a metric prefix following the\n",
            " |          International System of Units standard will be added\n",
            " |          (kilo, mega, etc.) [default: False]. If any other non-zero\n",
            " |          number, will scale `total` and `n`.\n",
            " |      dynamic_ncols  : bool, optional\n",
            " |          If set, constantly alters `ncols` to the environment (allowing\n",
            " |          for window resizes) [default: False].\n",
            " |      smoothing  : float, optional\n",
            " |          Exponential moving average smoothing factor for speed estimates\n",
            " |          (ignored in GUI mode). Ranges from 0 (average speed) to 1\n",
            " |          (current/instantaneous speed) [default: 0.3].\n",
            " |      bar_format  : str, optional\n",
            " |          Specify a custom bar string formatting. May impact performance.\n",
            " |          [default: '{l_bar}{bar}{r_bar}'], where\n",
            " |          l_bar='{desc}: {percentage:3.0f}%|' and\n",
            " |          r_bar='| {n_fmt}/{total_fmt} [{elapsed}<{remaining}, '\n",
            " |            '{rate_fmt}{postfix}]'\n",
            " |          Possible vars: l_bar, bar, r_bar, n, n_fmt, total, total_fmt,\n",
            " |            percentage, elapsed, elapsed_s, ncols, desc, unit,\n",
            " |            rate, rate_fmt, rate_noinv, rate_noinv_fmt,\n",
            " |            rate_inv, rate_inv_fmt, postfix, unit_divisor,\n",
            " |            remaining, remaining_s.\n",
            " |          Note that a trailing \": \" is automatically removed after {desc}\n",
            " |          if the latter is empty.\n",
            " |      initial  : int or float, optional\n",
            " |          The initial counter value. Useful when restarting a progress\n",
            " |          bar [default: 0]. If using float, consider specifying `{n:.3f}`\n",
            " |          or similar in `bar_format`, or specifying `unit_scale`.\n",
            " |      position  : int, optional\n",
            " |          Specify the line offset to print this bar (starting from 0)\n",
            " |          Automatic if unspecified.\n",
            " |          Useful to manage multiple bars at once (eg, from threads).\n",
            " |      postfix  : dict or *, optional\n",
            " |          Specify additional stats to display at the end of the bar.\n",
            " |          Calls `set_postfix(**postfix)` if possible (dict).\n",
            " |      unit_divisor  : float, optional\n",
            " |          [default: 1000], ignored unless `unit_scale` is True.\n",
            " |      write_bytes  : bool, optional\n",
            " |          If (default: None) and `file` is unspecified,\n",
            " |          bytes will be written in Python 2. If `True` will also write\n",
            " |          bytes. In all other cases will default to unicode.\n",
            " |      lock_args  : tuple, optional\n",
            " |          Passed to `refresh` for intermediate output\n",
            " |          (initialisation, iterating, and updating).\n",
            " |      gui  : bool, optional\n",
            " |          WARNING: internal parameter - do not use.\n",
            " |          Use tqdm.gui.tqdm(...) instead. If set, will attempt to use\n",
            " |          matplotlib animations for a graphical output [default: False].\n",
            " |      \n",
            " |      Returns\n",
            " |      -------\n",
            " |      out  : decorated iterator.\n",
            " |  \n",
            " |  __iter__(self, *args, **kwargs)\n",
            " |      Backward-compatibility to use: for x in tqdm(iterable)\n",
            " |  \n",
            " |  close(self, *args, **kwargs)\n",
            " |      Cleanup and (if leave=False) close the progressbar.\n",
            " |  \n",
            " |  display(self, msg=None, pos=None, close=False, bar_style=None)\n",
            " |      Use `self.sp` to display `msg` in the specified `pos`.\n",
            " |      \n",
            " |      Consider overloading this function when inheriting to use e.g.:\n",
            " |      `self.some_frontend(**self.format_dict)` instead of `self.sp`.\n",
            " |      \n",
            " |      Parameters\n",
            " |      ----------\n",
            " |      msg  : str, optional. What to display (default: `repr(self)`).\n",
            " |      pos  : int, optional. Position to `moveto`\n",
            " |        (default: `abs(self.pos)`).\n",
            " |  \n",
            " |  moveto(self, *args, **kwargs)\n",
            " |  \n",
            " |  reset(self, total=None)\n",
            " |      Resets to 0 iterations for repeated use.\n",
            " |      \n",
            " |      Consider combining with `leave=True`.\n",
            " |      \n",
            " |      Parameters\n",
            " |      ----------\n",
            " |      total  : int or float, optional. Total to use for the new bar.\n",
            " |  \n",
            " |  update(self, *args, **kwargs)\n",
            " |      Manually update the progress bar, useful for streams\n",
            " |      such as reading files.\n",
            " |      E.g.:\n",
            " |      >>> t = tqdm(total=filesize) # Initialise\n",
            " |      >>> for current_buffer in stream:\n",
            " |      ...    ...\n",
            " |      ...    t.update(len(current_buffer))\n",
            " |      >>> t.close()\n",
            " |      The last line is highly recommended, but possibly not necessary if\n",
            " |      `t.update()` will be called in such a way that `filesize` will be\n",
            " |      exactly reached and printed.\n",
            " |      \n",
            " |      Parameters\n",
            " |      ----------\n",
            " |      n  : int or float, optional\n",
            " |          Increment to add to the internal counter of iterations\n",
            " |          [default: 1]. If using float, consider specifying `{n:.3f}`\n",
            " |          or similar in `bar_format`, or specifying `unit_scale`.\n",
            " |  \n",
            " |  ----------------------------------------------------------------------\n",
            " |  Static methods defined here:\n",
            " |  \n",
            " |  status_printer(_, total=None, desc=None, ncols=None)\n",
            " |      Manage the printing of an IPython/Jupyter Notebook progress bar widget.\n",
            " |  \n",
            " |  ----------------------------------------------------------------------\n",
            " |  Methods inherited from tqdm.std.tqdm:\n",
            " |  \n",
            " |  __bool__(self)\n",
            " |  \n",
            " |  __del__(self)\n",
            " |  \n",
            " |  __enter__(self)\n",
            " |  \n",
            " |  __exit__(self, exc_type, exc_value, traceback)\n",
            " |  \n",
            " |  __hash__(self)\n",
            " |      Return hash(self).\n",
            " |  \n",
            " |  __len__(self)\n",
            " |  \n",
            " |  __nonzero__(self)\n",
            " |  \n",
            " |  __repr__(self)\n",
            " |      Return repr(self).\n",
            " |  \n",
            " |  clear(self, nolock=False)\n",
            " |      Clear current bar display.\n",
            " |  \n",
            " |  refresh(self, nolock=False, lock_args=None)\n",
            " |      Force refresh the display of this bar.\n",
            " |      \n",
            " |      Parameters\n",
            " |      ----------\n",
            " |      nolock  : bool, optional\n",
            " |          If `True`, does not lock.\n",
            " |          If [default: `False`]: calls `acquire()` on internal lock.\n",
            " |      lock_args  : tuple, optional\n",
            " |          Passed to internal lock's `acquire()`.\n",
            " |          If specified, will only `display()` if `acquire()` returns `True`.\n",
            " |  \n",
            " |  set_description(self, desc=None, refresh=True)\n",
            " |      Set/modify description of the progress bar.\n",
            " |      \n",
            " |      Parameters\n",
            " |      ----------\n",
            " |      desc  : str, optional\n",
            " |      refresh  : bool, optional\n",
            " |          Forces refresh [default: True].\n",
            " |  \n",
            " |  set_description_str(self, desc=None, refresh=True)\n",
            " |      Set/modify description without ': ' appended.\n",
            " |  \n",
            " |  set_postfix(self, ordered_dict=None, refresh=True, **kwargs)\n",
            " |      Set/modify postfix (additional stats)\n",
            " |      with automatic formatting based on datatype.\n",
            " |      \n",
            " |      Parameters\n",
            " |      ----------\n",
            " |      ordered_dict  : dict or OrderedDict, optional\n",
            " |      refresh  : bool, optional\n",
            " |          Forces refresh [default: True].\n",
            " |      kwargs  : dict, optional\n",
            " |  \n",
            " |  set_postfix_str(self, s='', refresh=True)\n",
            " |      Postfix without dictionary expansion, similar to prefix handling.\n",
            " |  \n",
            " |  unpause(self)\n",
            " |      Restart tqdm timer from last print time.\n",
            " |  \n",
            " |  ----------------------------------------------------------------------\n",
            " |  Class methods inherited from tqdm.std.tqdm:\n",
            " |  \n",
            " |  external_write_mode(file=None, nolock=False) from builtins.type\n",
            " |      Disable tqdm within context and refresh tqdm when exits.\n",
            " |      Useful when writing to standard output stream\n",
            " |  \n",
            " |  get_lock() from builtins.type\n",
            " |      Get the global lock. Construct it if it does not exist.\n",
            " |  \n",
            " |  pandas(*targs, **tkwargs) from builtins.type\n",
            " |      Registers the given `tqdm` class with\n",
            " |          pandas.core.\n",
            " |          ( frame.DataFrame\n",
            " |          | series.Series\n",
            " |          | groupby.(generic.)DataFrameGroupBy\n",
            " |          | groupby.(generic.)SeriesGroupBy\n",
            " |          ).progress_apply\n",
            " |      \n",
            " |      A new instance will be create every time `progress_apply` is called,\n",
            " |      and each instance will automatically close() upon completion.\n",
            " |      \n",
            " |      Parameters\n",
            " |      ----------\n",
            " |      targs, tkwargs  : arguments for the tqdm instance\n",
            " |      \n",
            " |      Examples\n",
            " |      --------\n",
            " |      >>> import pandas as pd\n",
            " |      >>> import numpy as np\n",
            " |      >>> from tqdm import tqdm\n",
            " |      >>> from tqdm.gui import tqdm as tqdm_gui\n",
            " |      >>>\n",
            " |      >>> df = pd.DataFrame(np.random.randint(0, 100, (100000, 6)))\n",
            " |      >>> tqdm.pandas(ncols=50)  # can use tqdm_gui, optional kwargs, etc\n",
            " |      >>> # Now you can use `progress_apply` instead of `apply`\n",
            " |      >>> df.groupby(0).progress_apply(lambda x: x**2)\n",
            " |      \n",
            " |      References\n",
            " |      ----------\n",
            " |      https://stackoverflow.com/questions/18603270/\n",
            " |      progress-indicator-during-pandas-operations-python\n",
            " |  \n",
            " |  set_lock(lock) from builtins.type\n",
            " |      Set the global lock.\n",
            " |  \n",
            " |  wrapattr(stream, method, total=None, bytes=True, **tkwargs) from builtins.type\n",
            " |      stream  : file-like object.\n",
            " |      method  : str, \"read\" or \"write\". The result of `read()` and\n",
            " |          the first argument of `write()` should have a `len()`.\n",
            " |      \n",
            " |      >>> with tqdm.wrapattr(file_obj, \"read\", total=file_obj.size) as fobj:\n",
            " |      ...     while True:\n",
            " |      ...         chunk = fobj.read(chunk_size)\n",
            " |      ...         if not chunk:\n",
            " |      ...             break\n",
            " |  \n",
            " |  write(s, file=None, end='\\n', nolock=False) from builtins.type\n",
            " |      Print a message via tqdm (without overlap with bars).\n",
            " |  \n",
            " |  ----------------------------------------------------------------------\n",
            " |  Static methods inherited from tqdm.std.tqdm:\n",
            " |  \n",
            " |  __new__(cls, *args, **kwargs)\n",
            " |      Create and return a new object.  See help(type) for accurate signature.\n",
            " |  \n",
            " |  ema(x, mu=None, alpha=0.3)\n",
            " |      Exponential moving average: smoothing to give progressively lower\n",
            " |      weights to older values.\n",
            " |      \n",
            " |      Parameters\n",
            " |      ----------\n",
            " |      x  : float\n",
            " |          New value to include in EMA.\n",
            " |      mu  : float, optional\n",
            " |          Previous EMA value.\n",
            " |      alpha  : float, optional\n",
            " |          Smoothing factor in range [0, 1], [default: 0.3].\n",
            " |          Increase to give more weight to recent values.\n",
            " |          Ranges from 0 (yields mu) to 1 (yields x).\n",
            " |  \n",
            " |  format_interval(t)\n",
            " |      Formats a number of seconds as a clock time, [H:]MM:SS\n",
            " |      \n",
            " |      Parameters\n",
            " |      ----------\n",
            " |      t  : int\n",
            " |          Number of seconds.\n",
            " |      \n",
            " |      Returns\n",
            " |      -------\n",
            " |      out  : str\n",
            " |          [H:]MM:SS\n",
            " |  \n",
            " |  format_meter(n, total, elapsed, ncols=None, prefix='', ascii=False, unit='it', unit_scale=False, rate=None, bar_format=None, postfix=None, unit_divisor=1000, **extra_kwargs)\n",
            " |      Return a string-based progress bar given some parameters\n",
            " |      \n",
            " |      Parameters\n",
            " |      ----------\n",
            " |      n  : int or float\n",
            " |          Number of finished iterations.\n",
            " |      total  : int or float\n",
            " |          The expected total number of iterations. If meaningless (None),\n",
            " |          only basic progress statistics are displayed (no ETA).\n",
            " |      elapsed  : float\n",
            " |          Number of seconds passed since start.\n",
            " |      ncols  : int, optional\n",
            " |          The width of the entire output message. If specified,\n",
            " |          dynamically resizes `{bar}` to stay within this bound\n",
            " |          [default: None]. If `0`, will not print any bar (only stats).\n",
            " |          The fallback is `{bar:10}`.\n",
            " |      prefix  : str, optional\n",
            " |          Prefix message (included in total width) [default: ''].\n",
            " |          Use as {desc} in bar_format string.\n",
            " |      ascii  : bool, optional or str, optional\n",
            " |          If not set, use unicode (smooth blocks) to fill the meter\n",
            " |          [default: False]. The fallback is to use ASCII characters\n",
            " |          \" 123456789#\".\n",
            " |      unit  : str, optional\n",
            " |          The iteration unit [default: 'it'].\n",
            " |      unit_scale  : bool or int or float, optional\n",
            " |          If 1 or True, the number of iterations will be printed with an\n",
            " |          appropriate SI metric prefix (k = 10^3, M = 10^6, etc.)\n",
            " |          [default: False]. If any other non-zero number, will scale\n",
            " |          `total` and `n`.\n",
            " |      rate  : float, optional\n",
            " |          Manual override for iteration rate.\n",
            " |          If [default: None], uses n/elapsed.\n",
            " |      bar_format  : str, optional\n",
            " |          Specify a custom bar string formatting. May impact performance.\n",
            " |          [default: '{l_bar}{bar}{r_bar}'], where\n",
            " |          l_bar='{desc}: {percentage:3.0f}%|' and\n",
            " |          r_bar='| {n_fmt}/{total_fmt} [{elapsed}<{remaining}, '\n",
            " |            '{rate_fmt}{postfix}]'\n",
            " |          Possible vars: l_bar, bar, r_bar, n, n_fmt, total, total_fmt,\n",
            " |            percentage, elapsed, elapsed_s, ncols, desc, unit,\n",
            " |            rate, rate_fmt, rate_noinv, rate_noinv_fmt,\n",
            " |            rate_inv, rate_inv_fmt, postfix, unit_divisor,\n",
            " |            remaining, remaining_s.\n",
            " |          Note that a trailing \": \" is automatically removed after {desc}\n",
            " |          if the latter is empty.\n",
            " |      postfix  : *, optional\n",
            " |          Similar to `prefix`, but placed at the end\n",
            " |          (e.g. for additional stats).\n",
            " |          Note: postfix is usually a string (not a dict) for this method,\n",
            " |          and will if possible be set to postfix = ', ' + postfix.\n",
            " |          However other types are supported (#382).\n",
            " |      unit_divisor  : float, optional\n",
            " |          [default: 1000], ignored unless `unit_scale` is True.\n",
            " |      \n",
            " |      Returns\n",
            " |      -------\n",
            " |      out  : Formatted meter and stats, ready to display.\n",
            " |  \n",
            " |  format_num(n)\n",
            " |      Intelligent scientific notation (.3g).\n",
            " |      \n",
            " |      Parameters\n",
            " |      ----------\n",
            " |      n  : int or float or Numeric\n",
            " |          A Number.\n",
            " |      \n",
            " |      Returns\n",
            " |      -------\n",
            " |      out  : str\n",
            " |          Formatted number.\n",
            " |  \n",
            " |  format_sizeof(num, suffix='', divisor=1000)\n",
            " |      Formats a number (greater than unity) with SI Order of Magnitude\n",
            " |      prefixes.\n",
            " |      \n",
            " |      Parameters\n",
            " |      ----------\n",
            " |      num  : float\n",
            " |          Number ( >= 1) to format.\n",
            " |      suffix  : str, optional\n",
            " |          Post-postfix [default: ''].\n",
            " |      divisor  : float, optional\n",
            " |          Divisor between prefixes [default: 1000].\n",
            " |      \n",
            " |      Returns\n",
            " |      -------\n",
            " |      out  : str\n",
            " |          Number with Order of Magnitude SI unit postfix.\n",
            " |  \n",
            " |  ----------------------------------------------------------------------\n",
            " |  Data descriptors inherited from tqdm.std.tqdm:\n",
            " |  \n",
            " |  format_dict\n",
            " |      Public API for read-only member access.\n",
            " |  \n",
            " |  ----------------------------------------------------------------------\n",
            " |  Data and other attributes inherited from tqdm.std.tqdm:\n",
            " |  \n",
            " |  monitor = None\n",
            " |  \n",
            " |  monitor_interval = 10\n",
            " |  \n",
            " |  ----------------------------------------------------------------------\n",
            " |  Methods inherited from tqdm.utils.Comparable:\n",
            " |  \n",
            " |  __eq__(self, other)\n",
            " |      Return self==value.\n",
            " |  \n",
            " |  __ge__(self, other)\n",
            " |      Return self>=value.\n",
            " |  \n",
            " |  __gt__(self, other)\n",
            " |      Return self>value.\n",
            " |  \n",
            " |  __le__(self, other)\n",
            " |      Return self<=value.\n",
            " |  \n",
            " |  __lt__(self, other)\n",
            " |      Return self<value.\n",
            " |  \n",
            " |  __ne__(self, other)\n",
            " |      Return self!=value.\n",
            " |  \n",
            " |  ----------------------------------------------------------------------\n",
            " |  Data descriptors inherited from tqdm.utils.Comparable:\n",
            " |  \n",
            " |  __dict__\n",
            " |      dictionary for instance variables (if defined)\n",
            " |  \n",
            " |  __weakref__\n",
            " |      list of weak references to the object (if defined)\n",
            "\n"
          ],
          "name": "stdout"
        }
      ]
    },
    {
      "cell_type": "code",
      "metadata": {
        "colab": {
          "base_uri": "https://localhost:8080/"
        },
        "id": "SwAWX1ZpNXJa",
        "outputId": "59ee17f1-dc23-41c5-9f2a-03953c149d3d"
      },
      "source": [
        "from torchvision import transforms\n",
        "from torchvision.datasets import  MNIST\n",
        "from torchvision.utils import make_grid\n",
        "from torch.utils.data import DataLoader\n",
        "import matplotlib.pyplot as plt\n",
        "torch.manual_seed(0)"
      ],
      "execution_count": null,
      "outputs": [
        {
          "output_type": "execute_result",
          "data": {
            "text/plain": [
              "<torch._C.Generator at 0x7fef1ea9be10>"
            ]
          },
          "metadata": {
            "tags": []
          },
          "execution_count": 4
        }
      ]
    },
    {
      "cell_type": "code",
      "metadata": {
        "colab": {
          "base_uri": "https://localhost:8080/"
        },
        "id": "9oOjvZ4MSMod",
        "outputId": "0bff3732-8c4f-4f9a-c9dd-f75944d06b09"
      },
      "source": [
        "MNIST"
      ],
      "execution_count": null,
      "outputs": [
        {
          "output_type": "execute_result",
          "data": {
            "text/plain": [
              "torchvision.datasets.mnist.MNIST"
            ]
          },
          "metadata": {
            "tags": []
          },
          "execution_count": 5
        }
      ]
    },
    {
      "cell_type": "code",
      "metadata": {
        "colab": {
          "base_uri": "https://localhost:8080/"
        },
        "id": "WVt4FdlvTU0c",
        "outputId": "67ea7d9b-1c8c-4626-9ec3-ae66660b5504"
      },
      "source": [
        "mnist_trainset=MNIST(root='./data',train=True,download=True,transform=None)"
      ],
      "execution_count": null,
      "outputs": [
        {
          "output_type": "stream",
          "text": [
            "/usr/local/lib/python3.7/dist-packages/torchvision/datasets/mnist.py:498: UserWarning: The given NumPy array is not writeable, and PyTorch does not support non-writeable tensors. This means you can write to the underlying (supposedly non-writeable) NumPy array using the tensor. You may want to copy the array to protect its data or make it writeable before converting it to a tensor. This type of warning will be suppressed for the rest of this program. (Triggered internally at  /pytorch/torch/csrc/utils/tensor_numpy.cpp:180.)\n",
            "  return torch.from_numpy(parsed.astype(m[2], copy=False)).view(*s)\n"
          ],
          "name": "stderr"
        }
      ]
    },
    {
      "cell_type": "code",
      "metadata": {
        "colab": {
          "base_uri": "https://localhost:8080/"
        },
        "id": "d0GvLX2XUWiu",
        "outputId": "421dfc9b-4b90-4e66-947c-e2b81afa9fa1"
      },
      "source": [
        "len(mnist_trainset)"
      ],
      "execution_count": null,
      "outputs": [
        {
          "output_type": "execute_result",
          "data": {
            "text/plain": [
              "60000"
            ]
          },
          "metadata": {
            "tags": []
          },
          "execution_count": 7
        }
      ]
    },
    {
      "cell_type": "code",
      "metadata": {
        "id": "nyM_iI5sUeYk"
      },
      "source": [
        "examples=enumerate(mnist_trainset)\n",
        "batch_idx=(example_data,example_targets)=next(examples)"
      ],
      "execution_count": null,
      "outputs": []
    },
    {
      "cell_type": "code",
      "metadata": {
        "id": "ow1WnH-FUvqQ"
      },
      "source": [
        "batch_size_train = 64\n",
        "batch_size_test = 1000\n",
        "train_loader = DataLoader(MNIST('/files/', train=True, download=True,\n",
        "                             transform=transforms.Compose([\n",
        "                               transforms.ToTensor(),\n",
        "                               transforms.Normalize(\n",
        "                                 (0.1307,), (0.3081,))\n",
        "                             ])), batch_size=batch_size_train, shuffle=True)\n",
        "\n",
        "test_loader = DataLoader(MNIST('/files/', train=False, download=True,\n",
        "                             transform=transforms.Compose([\n",
        "                               transforms.ToTensor(),\n",
        "                               transforms.Normalize(\n",
        "                                 (0.1307,), (0.3081,))\n",
        "                             ])), batch_size=batch_size_test ,shuffle=True)"
      ],
      "execution_count": null,
      "outputs": []
    },
    {
      "cell_type": "code",
      "metadata": {
        "id": "R3_AizbKVNhp"
      },
      "source": [
        "examples = enumerate(test_loader)\n",
        "batch_idx, (example_data, example_targets) = next(examples)"
      ],
      "execution_count": null,
      "outputs": []
    },
    {
      "cell_type": "code",
      "metadata": {
        "colab": {
          "base_uri": "https://localhost:8080/"
        },
        "id": "Dg5aFQESWSOq",
        "outputId": "8c36e76d-34d2-460b-bdfa-9b26a4a47774"
      },
      "source": [
        "example_data.shape"
      ],
      "execution_count": null,
      "outputs": [
        {
          "output_type": "execute_result",
          "data": {
            "text/plain": [
              "torch.Size([1000, 1, 28, 28])"
            ]
          },
          "metadata": {
            "tags": []
          },
          "execution_count": 11
        }
      ]
    },
    {
      "cell_type": "code",
      "metadata": {
        "colab": {
          "base_uri": "https://localhost:8080/",
          "height": 242
        },
        "id": "9vO5iwsxWUZ2",
        "outputId": "9fbdfc35-e5f4-46e6-aef0-973cd469831e"
      },
      "source": [
        "fig=plt.figure()\n",
        "for i in range(8):\n",
        "  plt.subplot(2,4,i+1)\n",
        "  #plt.tight_layout()\n",
        "  plt.imshow(example_data[i][0],cmap='gray',interpolation='none')"
      ],
      "execution_count": null,
      "outputs": [
        {
          "output_type": "display_data",
          "data": {
            "image/png": "[encoded data removed]",
            "text/plain": [
              "<Figure size 432x288 with 8 Axes>"
            ]
          },
          "metadata": {
            "tags": [],
            "needs_background": "light"
          }
        }
      ]
    },
    {
      "cell_type": "code",
      "metadata": {
        "colab": {
          "base_uri": "https://localhost:8080/",
          "height": 241
        },
        "id": "3xcvi0sSXKZl",
        "outputId": "66eee5e6-4cd7-437f-ab82-698a84ae57d5"
      },
      "source": [
        "fig=plt.figure()\n",
        "for i in range(8):\n",
        "  plt.subplot(2,4,i+1)\n",
        "  plt.tight_layout()\n",
        "  plt.imshow(example_data[i][0],cmap='gray',interpolation='none')\n",
        "  plt.xticks([])\n",
        "  plt.yticks([])"
      ],
      "execution_count": null,
      "outputs": [
        {
          "output_type": "display_data",
          "data": {
            "image/png": "[encoded data removed]",
            "text/plain": [
              "<Figure size 432x288 with 6 Axes>"
            ]
          },
          "metadata": {
            "tags": []
          }
        }
      ]
    },
    {
      "cell_type": "markdown",
      "metadata": {
        "id": "48EKd5J0YVfB"
      },
      "source": [
        "### **Create generator for the GAN**"
      ]
    },
    {
      "cell_type": "code",
      "metadata": {
        "id": "_JzNNuKlXkoU"
      },
      "source": [
        "def get_generator_block(input_dim,output_dim):\n",
        "  return nn.Sequential(\n",
        "      nn.Linear(input_dim,output_dim),\n",
        "      nn.BatchNorm1d(output_dim),\n",
        "      nn.ReLU(inplace=True)\n",
        "  )"
      ],
      "execution_count": null,
      "outputs": []
    },
    {
      "cell_type": "code",
      "metadata": {
        "id": "56L-N4SRbN6N",
        "colab": {
          "base_uri": "https://localhost:8080/"
        },
        "outputId": "3a106d1d-db26-4379-b42a-dc642a5d5b4c"
      },
      "source": [
        "def test_gen_block(in_features, out_features, num_test=1000):\n",
        "    block = get_generator_block(in_features, out_features)\n",
        "\n",
        "    # Check the three parts\n",
        "    assert len(block) == 3\n",
        "    assert type(block[0]) == nn.Linear\n",
        "    assert type(block[1]) == nn.BatchNorm1d\n",
        "    assert type(block[2]) == nn.ReLU\n",
        "    \n",
        "    # Check the output shape\n",
        "    test_input = torch.randn(num_test, in_features)\n",
        "    test_output = block(test_input)\n",
        "    assert tuple(test_output.shape) == (num_test, out_features)\n",
        "    assert test_output.std() > 0.55\n",
        "    assert test_output.std() < 0.65\n",
        "\n",
        "test_gen_block(25, 12)\n",
        "test_gen_block(15, 28)\n",
        "print(\"Success!\")"
      ],
      "execution_count": null,
      "outputs": [
        {
          "output_type": "stream",
          "text": [
            "Success!\n"
          ],
          "name": "stdout"
        }
      ]
    },
    {
      "cell_type": "code",
      "metadata": {
        "id": "mpF6z76HbUl7"
      },
      "source": [
        ""
      ],
      "execution_count": null,
      "outputs": []
    }
  ]
}