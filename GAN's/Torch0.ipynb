{
  "nbformat": 4,
  "nbformat_minor": 0,
  "metadata": {
    "colab": {
      "name": "Torch0.ipynb",
      "provenance": []
    },
    "kernelspec": {
      "name": "python3",
      "display_name": "Python 3"
    },
    "language_info": {
      "name": "python"
    },
    "accelerator": "GPU"
  },
  "cells": [
    {
      "cell_type": "code",
      "metadata": {
        "id": "YBUgfwtuPHUB"
      },
      "source": [
        "import torch"
      ],
      "execution_count": 1,
      "outputs": []
    },
    {
      "cell_type": "code",
      "metadata": {
        "id": "VDnudXwhPLP2"
      },
      "source": [
        "example_tensor=torch.Tensor(\n",
        "    [\n",
        "     [[1,2],[3,4]],\n",
        "     [[5,6],[7,8]],\n",
        "     [[9,0],[1,2]]\n",
        "    ]\n",
        ")"
      ],
      "execution_count": 2,
      "outputs": []
    },
    {
      "cell_type": "code",
      "metadata": {
        "colab": {
          "base_uri": "https://localhost:8080/"
        },
        "id": "UTygGGYOR2Vd",
        "outputId": "9bd5bf01-c3db-4346-b3f4-77235c465487"
      },
      "source": [
        "example_tensor"
      ],
      "execution_count": 3,
      "outputs": [
        {
          "output_type": "execute_result",
          "data": {
            "text/plain": [
              "tensor([[[1., 2.],\n",
              "         [3., 4.]],\n",
              "\n",
              "        [[5., 6.],\n",
              "         [7., 8.]],\n",
              "\n",
              "        [[9., 0.],\n",
              "         [1., 2.]]])"
            ]
          },
          "metadata": {
            "tags": []
          },
          "execution_count": 3
        }
      ]
    },
    {
      "cell_type": "code",
      "metadata": {
        "colab": {
          "base_uri": "https://localhost:8080/"
        },
        "id": "zx9ELGvIR3ir",
        "outputId": "dacc3875-52dd-498c-ef1a-47fa16ee0a0c"
      },
      "source": [
        "example_tensor.device"
      ],
      "execution_count": 4,
      "outputs": [
        {
          "output_type": "execute_result",
          "data": {
            "text/plain": [
              "device(type='cpu')"
            ]
          },
          "metadata": {
            "tags": []
          },
          "execution_count": 4
        }
      ]
    },
    {
      "cell_type": "code",
      "metadata": {
        "colab": {
          "base_uri": "https://localhost:8080/"
        },
        "id": "Ijab5lKKSKyE",
        "outputId": "ae72b2c5-9f4a-4e07-e5c1-aa6e95e1ea5e"
      },
      "source": [
        "example_tensor.shape"
      ],
      "execution_count": 5,
      "outputs": [
        {
          "output_type": "execute_result",
          "data": {
            "text/plain": [
              "torch.Size([3, 2, 2])"
            ]
          },
          "metadata": {
            "tags": []
          },
          "execution_count": 5
        }
      ]
    },
    {
      "cell_type": "code",
      "metadata": {
        "colab": {
          "base_uri": "https://localhost:8080/"
        },
        "id": "NjbjxYbVSUlB",
        "outputId": "4267b648-020c-4edb-aaf3-5f9eb5563342"
      },
      "source": [
        "print('shape[0] =', example_tensor.shape[0])\n",
        "print('size(1) =', example_tensor.size(1))"
      ],
      "execution_count": 6,
      "outputs": [
        {
          "output_type": "stream",
          "text": [
            "shape[0] = 3\n",
            "size(1) = 2\n"
          ],
          "name": "stdout"
        }
      ]
    },
    {
      "cell_type": "code",
      "metadata": {
        "colab": {
          "base_uri": "https://localhost:8080/"
        },
        "id": "eXeqXzHCShp6",
        "outputId": "fcad89da-31b0-44f8-8398-c2f3033ec2f2"
      },
      "source": [
        "print(\"Rank= \", len(example_tensor))\n",
        "print(\"Number of elements =\", example_tensor.numel())"
      ],
      "execution_count": 8,
      "outputs": [
        {
          "output_type": "stream",
          "text": [
            "Rank=  3\n",
            "Number of elements = 12\n"
          ],
          "name": "stdout"
        }
      ]
    },
    {
      "cell_type": "code",
      "metadata": {
        "colab": {
          "base_uri": "https://localhost:8080/"
        },
        "id": "3_y50Km1SkHz",
        "outputId": "70f0d9e5-c222-424e-b1e2-64a64d18811f"
      },
      "source": [
        "example_tensor[1,1,1] #print 8"
      ],
      "execution_count": 9,
      "outputs": [
        {
          "output_type": "execute_result",
          "data": {
            "text/plain": [
              "tensor(8.)"
            ]
          },
          "metadata": {
            "tags": []
          },
          "execution_count": 9
        }
      ]
    },
    {
      "cell_type": "code",
      "metadata": {
        "colab": {
          "base_uri": "https://localhost:8080/"
        },
        "id": "ns8iTsJgTH1e",
        "outputId": "ead098ba-3b7c-4ece-993c-aabe9002e0ee"
      },
      "source": [
        "example_tensor[1,1,1].item() #Takes the corresponding item"
      ],
      "execution_count": 10,
      "outputs": [
        {
          "output_type": "execute_result",
          "data": {
            "text/plain": [
              "8.0"
            ]
          },
          "metadata": {
            "tags": []
          },
          "execution_count": 10
        }
      ]
    },
    {
      "cell_type": "code",
      "metadata": {
        "id": "hyGVIYuyTNHx"
      },
      "source": [
        ""
      ],
      "execution_count": null,
      "outputs": []
    }
  ]
}