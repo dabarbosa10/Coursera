{
  "nbformat": 4,
  "nbformat_minor": 0,
  "metadata": {
    "colab": {
      "name": "Network.ipynb",
      "provenance": []
    },
    "kernelspec": {
      "name": "python3",
      "display_name": "Python 3"
    }
  },
  "cells": [
    {
      "cell_type": "code",
      "metadata": {
        "id": "Syiz7Xfp2SF2"
      },
      "source": [
        "import networkx as nx\n",
        "import numpy as np\n",
        "import pandas as pd\n",
        "%matplotlib inline "
      ],
      "execution_count": 6,
      "outputs": []
    },
    {
      "cell_type": "code",
      "metadata": {
        "id": "f5NknAfl2nTW"
      },
      "source": [
        "G1=nx.Graph()\n",
        "G1.add_edges_from([(0,1),\n",
        "                   (0,2),\n",
        "                   (0,3),\n",
        "                   (0,5),\n",
        "                   (1,3),\n",
        "                   (1,6),\n",
        "                   (3,4),\n",
        "                   (4,5),\n",
        "                   (4,7),\n",
        "                   (5,8),\n",
        "                   (8,9)])"
      ],
      "execution_count": 7,
      "outputs": []
    },
    {
      "cell_type": "code",
      "metadata": {
        "colab": {
          "base_uri": "https://localhost:8080/",
          "height": 248
        },
        "id": "iTxzHoDz3PTQ",
        "outputId": "57a87d86-168c-41cf-f11e-0471c8309b22"
      },
      "source": [
        "nx.draw_networkx(G1)"
      ],
      "execution_count": 8,
      "outputs": [
        {
          "output_type": "display_data",
          "data": {
            "image/png": "[encoded data removed]",
            "text/plain": [
              "<Figure size 432x288 with 1 Axes>"
            ]
          },
          "metadata": {
            "tags": []
          }
        }
      ]
    },
    {
      "cell_type": "code",
      "metadata": {
        "colab": {
          "base_uri": "https://localhost:8080/"
        },
        "id": "w2Q1xgU63Suu",
        "outputId": "fe81e3f3-27cc-43c7-fd2f-6fc471ad6175"
      },
      "source": [
        "G_mat = np.array([[0, 1, 1, 1, 0, 1, 0, 0, 0, 0],\n",
        "                  [1, 0, 0, 1, 0, 0, 1, 0, 0, 0],\n",
        "                  [1, 0, 0, 0, 0, 0, 0, 0, 0, 0],\n",
        "                  [1, 1, 0, 0, 1, 0, 0, 0, 0, 0],\n",
        "                  [0, 0, 0, 1, 0, 1, 0, 1, 0, 0],\n",
        "                  [1, 0, 0, 0, 1, 0, 0, 0, 1, 0],\n",
        "                  [0, 1, 0, 0, 0, 0, 0, 0, 0, 0],\n",
        "                  [0, 0, 0, 0, 1, 0, 0, 0, 0, 0],\n",
        "                  [0, 0, 0, 0, 0, 1, 0, 0, 0, 1],\n",
        "                  [0, 0, 0, 0, 0, 0, 0, 0, 1, 0]])\n",
        "G_mat"
      ],
      "execution_count": 11,
      "outputs": [
        {
          "output_type": "execute_result",
          "data": {
            "text/plain": [
              "array([[0, 1, 1, 1, 0, 1, 0, 0, 0, 0],\n",
              "       [1, 0, 0, 1, 0, 0, 1, 0, 0, 0],\n",
              "       [1, 0, 0, 0, 0, 0, 0, 0, 0, 0],\n",
              "       [1, 1, 0, 0, 1, 0, 0, 0, 0, 0],\n",
              "       [0, 0, 0, 1, 0, 1, 0, 1, 0, 0],\n",
              "       [1, 0, 0, 0, 1, 0, 0, 0, 1, 0],\n",
              "       [0, 1, 0, 0, 0, 0, 0, 0, 0, 0],\n",
              "       [0, 0, 0, 0, 1, 0, 0, 0, 0, 0],\n",
              "       [0, 0, 0, 0, 0, 1, 0, 0, 0, 1],\n",
              "       [0, 0, 0, 0, 0, 0, 0, 0, 1, 0]])"
            ]
          },
          "metadata": {
            "tags": []
          },
          "execution_count": 11
        }
      ]
    },
    {
      "cell_type": "code",
      "metadata": {
        "colab": {
          "base_uri": "https://localhost:8080/"
        },
        "id": "em5v6P-_38Yi",
        "outputId": "e1e1dc92-e49e-4319-c5a4-d744afed5cb8"
      },
      "source": [
        "G3 = nx.Graph(G_mat)\n",
        "G3.edges()"
      ],
      "execution_count": 12,
      "outputs": [
        {
          "output_type": "execute_result",
          "data": {
            "text/plain": [
              "EdgeView([(0, 1), (0, 2), (0, 3), (0, 5), (1, 3), (1, 6), (3, 4), (4, 5), (4, 7), (5, 8), (8, 9)])"
            ]
          },
          "metadata": {
            "tags": []
          },
          "execution_count": 12
        }
      ]
    },
    {
      "cell_type": "code",
      "metadata": {
        "id": "8JA1YVQc4K8H"
      },
      "source": [
        "nx.write_edgelist(G3, \"G3_edgelist.txt\")\n"
      ],
      "execution_count": 16,
      "outputs": []
    },
    {
      "cell_type": "code",
      "metadata": {
        "colab": {
          "base_uri": "https://localhost:8080/"
        },
        "id": "Lf39e3XO4RTA",
        "outputId": "17b57261-1f84-4379-c3ba-e346df85e070"
      },
      "source": [
        "G4 = nx.read_edgelist('G3_edgelist.txt')\n",
        "\n",
        "G4.edges(data=True)"
      ],
      "execution_count": 19,
      "outputs": [
        {
          "output_type": "execute_result",
          "data": {
            "text/plain": [
              "EdgeDataView([('0', '1', {'weight': 1}), ('0', '2', {'weight': 1}), ('0', '3', {'weight': 1}), ('0', '5', {'weight': 1}), ('1', '3', {'weight': 1}), ('1', '6', {'weight': 1}), ('3', '4', {'weight': 1}), ('5', '4', {'weight': 1}), ('5', '8', {'weight': 1}), ('4', '7', {'weight': 1}), ('8', '9', {'weight': 1})])"
            ]
          },
          "metadata": {
            "tags": []
          },
          "execution_count": 19
        }
      ]
    },
    {
      "cell_type": "code",
      "metadata": {
        "id": "fLlxqvxw4tMV"
      },
      "source": [
        ""
      ],
      "execution_count": null,
      "outputs": []
    }
  ]
}