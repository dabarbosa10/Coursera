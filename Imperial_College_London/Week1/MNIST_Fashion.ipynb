{
  "nbformat": 4,
  "nbformat_minor": 0,
  "metadata": {
    "colab": {
      "name": "MNIST_Fashion.ipynb",
      "provenance": []
    },
    "kernelspec": {
      "name": "python3",
      "display_name": "Python 3"
    },
    "accelerator": "GPU"
  },
  "cells": [
    {
      "cell_type": "code",
      "metadata": {
        "id": "x2NsqBGcZOX5",
        "outputId": "f86c94a8-6fb9-40fb-e1f8-e31ecfad7985",
        "colab": {
          "base_uri": "https://localhost:8080/"
        }
      },
      "source": [
        "import tensorflow as tf\n",
        "print(tf.__version__)"
      ],
      "execution_count": 1,
      "outputs": [
        {
          "output_type": "stream",
          "text": [
            "2.3.0\n"
          ],
          "name": "stdout"
        }
      ]
    },
    {
      "cell_type": "code",
      "metadata": {
        "id": "xWXR6v3GZR2V"
      },
      "source": [
        "from tensorflow.keras.models import Sequential\n",
        "from tensorflow.keras.layers import Dense, Flatten, Softmax"
      ],
      "execution_count": 2,
      "outputs": []
    },
    {
      "cell_type": "code",
      "metadata": {
        "id": "DxXSbv9IZUtn"
      },
      "source": [
        "#Convolutional and pooling layers\n",
        "from tensorflow.keras.models import Sequential\n",
        "from tensorflow.keras.layers import Dense, Flatten, Conv2D, MaxPooling2D"
      ],
      "execution_count": 3,
      "outputs": []
    },
    {
      "cell_type": "code",
      "metadata": {
        "id": "weE5xqwQZaD0"
      },
      "source": [
        "opt=tf.keras.optimizers.Adam(learning_rate=0.005)\n",
        "acc=tf.keras.metrics.SparseCategoricalAccuracy()\n",
        "mae=tf.keras.metrics.MeanAbsoluteError()"
      ],
      "execution_count": 4,
      "outputs": []
    },
    {
      "cell_type": "code",
      "metadata": {
        "id": "uU8YcWArZfC4"
      },
      "source": [
        "from tensorflow.keras.preprocessing import image \n",
        "import numpy as np\n",
        "import pandas as pd\n",
        "\n"
      ],
      "execution_count": 5,
      "outputs": []
    },
    {
      "cell_type": "code",
      "metadata": {
        "id": "u45md-AtZnnD"
      },
      "source": [
        "fashion_mnist_data=tf.keras.datasets.fashion_mnist\n",
        "(train_images, train_labels),(test_images, test_labels)=fashion_mnist_data.load_data()"
      ],
      "execution_count": 6,
      "outputs": []
    },
    {
      "cell_type": "code",
      "metadata": {
        "id": "hgVZ8XcxZpyX"
      },
      "source": [
        "model=Sequential([\n",
        "    Conv2D(16, (3,3), activation='relu', input_shape=(28,28,1)),\n",
        "    MaxPooling2D((3,3)),\n",
        "    Flatten(),\n",
        "    Dense(10,activation='softmax')\n",
        "])"
      ],
      "execution_count": 7,
      "outputs": []
    },
    {
      "cell_type": "code",
      "metadata": {
        "id": "yaHYvHFlZsgm",
        "outputId": "ff40907c-c40f-41c8-b298-0848377d8c5f",
        "colab": {
          "base_uri": "https://localhost:8080/"
        }
      },
      "source": [
        "model.summary()"
      ],
      "execution_count": 8,
      "outputs": [
        {
          "output_type": "stream",
          "text": [
            "Model: \"sequential\"\n",
            "_________________________________________________________________\n",
            "Layer (type)                 Output Shape              Param #   \n",
            "=================================================================\n",
            "conv2d (Conv2D)              (None, 26, 26, 16)        160       \n",
            "_________________________________________________________________\n",
            "max_pooling2d (MaxPooling2D) (None, 8, 8, 16)          0         \n",
            "_________________________________________________________________\n",
            "flatten (Flatten)            (None, 1024)              0         \n",
            "_________________________________________________________________\n",
            "dense (Dense)                (None, 10)                10250     \n",
            "=================================================================\n",
            "Total params: 10,410\n",
            "Trainable params: 10,410\n",
            "Non-trainable params: 0\n",
            "_________________________________________________________________\n"
          ],
          "name": "stdout"
        }
      ]
    },
    {
      "cell_type": "code",
      "metadata": {
        "id": "GsPSQlRNZvOI"
      },
      "source": [
        "opt=tf.keras.optimizers.Adam(learning_rate=0.005)\n",
        "acc=tf.keras.metrics.SparseCategoricalAccuracy()\n",
        "mae=tf.keras.metrics.MeanAbsoluteError()\n",
        "\n",
        "model.compile(optimizer=opt,loss='sparse_categorical_crossentropy',metrics=[acc,mae])"
      ],
      "execution_count": 9,
      "outputs": []
    },
    {
      "cell_type": "code",
      "metadata": {
        "id": "mvZSbQlhZyeE",
        "outputId": "d7166f6a-5748-44c5-f97a-bb039781b123",
        "colab": {
          "base_uri": "https://localhost:8080/"
        }
      },
      "source": [
        "train_images.shape"
      ],
      "execution_count": 10,
      "outputs": [
        {
          "output_type": "execute_result",
          "data": {
            "text/plain": [
              "(60000, 28, 28)"
            ]
          },
          "metadata": {
            "tags": []
          },
          "execution_count": 10
        }
      ]
    },
    {
      "cell_type": "code",
      "metadata": {
        "id": "Es249sUbZ1Tt",
        "outputId": "d01c6e85-a6fc-4ecb-9de1-ec5349e6cc06",
        "colab": {
          "base_uri": "https://localhost:8080/",
          "height": 265
        }
      },
      "source": [
        "import matplotlib.pyplot as plt\n",
        "%matplotlib inline\n",
        "plt.imshow(train_images[1],cmap='gray',interpolation='nearest')\n",
        "plt.show()"
      ],
      "execution_count": 11,
      "outputs": [
        {
          "output_type": "display_data",
          "data": {
            "image/png": "[encoded data removed]",
            "text/plain": [
              "<Figure size 432x288 with 1 Axes>"
            ]
          },
          "metadata": {
            "tags": [],
            "needs_background": "light"
          }
        }
      ]
    },
    {
      "cell_type": "code",
      "metadata": {
        "id": "2u2ZRjjQZ29A",
        "outputId": "420a3985-f501-46fd-d86e-a2c2e83c6d59",
        "colab": {
          "base_uri": "https://localhost:8080/",
          "height": 282
        }
      },
      "source": [
        "labels=['T-shirt/top', 'Trouser', 'Pullover', 'Dress', 'Coat', 'Sandal', 'Shirt', 'Sneaker', 'Bag', 'Ankle boot']\n",
        "print(train_labels[0])\n",
        "plt.imshow(train_images[9],cmap='gray',interpolation='nearest')\n",
        "plt.show()"
      ],
      "execution_count": 12,
      "outputs": [
        {
          "output_type": "stream",
          "text": [
            "9\n"
          ],
          "name": "stdout"
        },
        {
          "output_type": "display_data",
          "data": {
            "image/png": "[encoded data removed]",
            "text/plain": [
              "<Figure size 432x288 with 1 Axes>"
            ]
          },
          "metadata": {
            "tags": [],
            "needs_background": "light"
          }
        }
      ]
    },
    {
      "cell_type": "code",
      "metadata": {
        "id": "dz2D4KEnaHM3"
      },
      "source": [
        "#Rescale the image vaules so that they lei in between 0 and 1\n",
        "train_images=train_images/256\n",
        "test_images=test_images/256"
      ],
      "execution_count": 13,
      "outputs": []
    },
    {
      "cell_type": "code",
      "metadata": {
        "id": "6czNRvA_aLrp",
        "outputId": "b887bdac-387c-4e0f-cc2d-d15fcd7da590",
        "colab": {
          "base_uri": "https://localhost:8080/",
          "height": 282
        }
      },
      "source": [
        "i=0\n",
        "img=train_images[i,:,:]\n",
        "plt.imshow(img,cmap='gray')\n",
        "plt.show()\n",
        "print('Label: ', labels[train_labels[i]])"
      ],
      "execution_count": 14,
      "outputs": [
        {
          "output_type": "display_data",
          "data": {
            "image/png": "[encoded data removed]",
            "text/plain": [
              "<Figure size 432x288 with 1 Axes>"
            ]
          },
          "metadata": {
            "tags": [],
            "needs_background": "light"
          }
        },
        {
          "output_type": "stream",
          "text": [
            "Label:  Ankle boot\n"
          ],
          "name": "stdout"
        }
      ]
    },
    {
      "cell_type": "code",
      "metadata": {
        "id": "IYI1H_BmaNow",
        "outputId": "5eedb46d-3589-407f-bcd2-b3c9cf654637",
        "colab": {
          "base_uri": "https://localhost:8080/"
        }
      },
      "source": [
        "history=model.fit(train_images[...,np.newaxis], train_labels, epochs=19, batch_size=256,verbose=2 )"
      ],
      "execution_count": 15,
      "outputs": [
        {
          "output_type": "stream",
          "text": [
            "Epoch 1/19\n",
            "235/235 - 1s - loss: 0.5561 - sparse_categorical_accuracy: 0.8051 - mean_absolute_error: 4.4200\n",
            "Epoch 2/19\n",
            "235/235 - 1s - loss: 0.3680 - sparse_categorical_accuracy: 0.8698 - mean_absolute_error: 4.4200\n",
            "Epoch 3/19\n",
            "235/235 - 1s - loss: 0.3373 - sparse_categorical_accuracy: 0.8814 - mean_absolute_error: 4.4200\n",
            "Epoch 4/19\n",
            "235/235 - 1s - loss: 0.3185 - sparse_categorical_accuracy: 0.8863 - mean_absolute_error: 4.4200\n",
            "Epoch 5/19\n",
            "235/235 - 1s - loss: 0.3073 - sparse_categorical_accuracy: 0.8898 - mean_absolute_error: 4.4200\n",
            "Epoch 6/19\n",
            "235/235 - 1s - loss: 0.2961 - sparse_categorical_accuracy: 0.8937 - mean_absolute_error: 4.4200\n",
            "Epoch 7/19\n",
            "235/235 - 1s - loss: 0.2871 - sparse_categorical_accuracy: 0.8964 - mean_absolute_error: 4.4200\n",
            "Epoch 8/19\n",
            "235/235 - 1s - loss: 0.2808 - sparse_categorical_accuracy: 0.8987 - mean_absolute_error: 4.4200\n",
            "Epoch 9/19\n",
            "235/235 - 1s - loss: 0.2764 - sparse_categorical_accuracy: 0.9000 - mean_absolute_error: 4.4200\n",
            "Epoch 10/19\n",
            "235/235 - 1s - loss: 0.2728 - sparse_categorical_accuracy: 0.9015 - mean_absolute_error: 4.4200\n",
            "Epoch 11/19\n",
            "235/235 - 1s - loss: 0.2663 - sparse_categorical_accuracy: 0.9048 - mean_absolute_error: 4.4200\n",
            "Epoch 12/19\n",
            "235/235 - 1s - loss: 0.2611 - sparse_categorical_accuracy: 0.9055 - mean_absolute_error: 4.4200\n",
            "Epoch 13/19\n",
            "235/235 - 1s - loss: 0.2576 - sparse_categorical_accuracy: 0.9064 - mean_absolute_error: 4.4200\n",
            "Epoch 14/19\n",
            "235/235 - 1s - loss: 0.2539 - sparse_categorical_accuracy: 0.9082 - mean_absolute_error: 4.4200\n",
            "Epoch 15/19\n",
            "235/235 - 1s - loss: 0.2520 - sparse_categorical_accuracy: 0.9079 - mean_absolute_error: 4.4200\n",
            "Epoch 16/19\n",
            "235/235 - 1s - loss: 0.2490 - sparse_categorical_accuracy: 0.9093 - mean_absolute_error: 4.4200\n",
            "Epoch 17/19\n",
            "235/235 - 1s - loss: 0.2418 - sparse_categorical_accuracy: 0.9119 - mean_absolute_error: 4.4200\n",
            "Epoch 18/19\n",
            "235/235 - 1s - loss: 0.2408 - sparse_categorical_accuracy: 0.9119 - mean_absolute_error: 4.4200\n",
            "Epoch 19/19\n",
            "235/235 - 1s - loss: 0.2379 - sparse_categorical_accuracy: 0.9137 - mean_absolute_error: 4.4200\n"
          ],
          "name": "stdout"
        }
      ]
    },
    {
      "cell_type": "code",
      "metadata": {
        "id": "8l1yw-LQaWKv",
        "outputId": "cf5910e4-6b96-4b68-f81c-f16e7569d81b",
        "colab": {
          "base_uri": "https://localhost:8080/",
          "height": 204
        }
      },
      "source": [
        "#Load the history into a pandas DataFrame\n",
        "df=pd.DataFrame(history.history)\n",
        "df.head()"
      ],
      "execution_count": 16,
      "outputs": [
        {
          "output_type": "execute_result",
          "data": {
            "text/html": [
              "<div>\n",
              "<style scoped>\n",
              "    .dataframe tbody tr th:only-of-type {\n",
              "        vertical-align: middle;\n",
              "    }\n",
              "\n",
              "    .dataframe tbody tr th {\n",
              "        vertical-align: top;\n",
              "    }\n",
              "\n",
              "    .dataframe thead th {\n",
              "        text-align: right;\n",
              "    }\n",
              "</style>\n",
              "<table border=\"1\" class=\"dataframe\">\n",
              "  <thead>\n",
              "    <tr style=\"text-align: right;\">\n",
              "      <th></th>\n",
              "      <th>loss</th>\n",
              "      <th>sparse_categorical_accuracy</th>\n",
              "      <th>mean_absolute_error</th>\n",
              "    </tr>\n",
              "  </thead>\n",
              "  <tbody>\n",
              "    <tr>\n",
              "      <th>0</th>\n",
              "      <td>0.556088</td>\n",
              "      <td>0.805133</td>\n",
              "      <td>4.420001</td>\n",
              "    </tr>\n",
              "    <tr>\n",
              "      <th>1</th>\n",
              "      <td>0.367983</td>\n",
              "      <td>0.869800</td>\n",
              "      <td>4.419999</td>\n",
              "    </tr>\n",
              "    <tr>\n",
              "      <th>2</th>\n",
              "      <td>0.337269</td>\n",
              "      <td>0.881433</td>\n",
              "      <td>4.420000</td>\n",
              "    </tr>\n",
              "    <tr>\n",
              "      <th>3</th>\n",
              "      <td>0.318452</td>\n",
              "      <td>0.886317</td>\n",
              "      <td>4.420000</td>\n",
              "    </tr>\n",
              "    <tr>\n",
              "      <th>4</th>\n",
              "      <td>0.307271</td>\n",
              "      <td>0.889767</td>\n",
              "      <td>4.420000</td>\n",
              "    </tr>\n",
              "  </tbody>\n",
              "</table>\n",
              "</div>"
            ],
            "text/plain": [
              "       loss  sparse_categorical_accuracy  mean_absolute_error\n",
              "0  0.556088                     0.805133             4.420001\n",
              "1  0.367983                     0.869800             4.419999\n",
              "2  0.337269                     0.881433             4.420000\n",
              "3  0.318452                     0.886317             4.420000\n",
              "4  0.307271                     0.889767             4.420000"
            ]
          },
          "metadata": {
            "tags": []
          },
          "execution_count": 16
        }
      ]
    },
    {
      "cell_type": "code",
      "metadata": {
        "id": "GN3nf4RhbxOV",
        "outputId": "d2235fd3-3d2f-4af4-f5e6-1f37d7ba32d7",
        "colab": {
          "base_uri": "https://localhost:8080/",
          "height": 312
        }
      },
      "source": [
        "#Make a plot for the loss\n",
        "loss_plot=df.plot(y=\"loss\",title=\"Loss vs. Epochs\", legend=False)\n",
        "loss_plot.set(xlabel=\"Epochs\", ylabel=\"Loss\")"
      ],
      "execution_count": 17,
      "outputs": [
        {
          "output_type": "execute_result",
          "data": {
            "text/plain": [
              "[Text(0, 0.5, 'Loss'), Text(0.5, 0, 'Epochs')]"
            ]
          },
          "metadata": {
            "tags": []
          },
          "execution_count": 17
        },
        {
          "output_type": "display_data",
          "data": {
            "image/png": "[encoded data removed]",
            "text/plain": [
              "<Figure size 432x288 with 1 Axes>"
            ]
          },
          "metadata": {
            "tags": [],
            "needs_background": "light"
          }
        }
      ]
    },
    {
      "cell_type": "code",
      "metadata": {
        "id": "eovC11lBctDO",
        "outputId": "579379b5-5cc0-44a5-e6cb-2b1ddef8af8e",
        "colab": {
          "base_uri": "https://localhost:8080/"
        }
      },
      "source": [
        "test_loss, test_accuracy, test_mae=model.evaluate(test_images[...,np.newaxis],test_labels, verbose=2)"
      ],
      "execution_count": 20,
      "outputs": [
        {
          "output_type": "stream",
          "text": [
            "313/313 - 1s - loss: 0.3062 - sparse_categorical_accuracy: 0.8935 - mean_absolute_error: 4.4200\n"
          ],
          "name": "stdout"
        }
      ]
    },
    {
      "cell_type": "code",
      "metadata": {
        "id": "ZAgWeHXcoqNc",
        "outputId": "7bb6a46b-1823-4d8e-f471-a6c866b76b82",
        "colab": {
          "base_uri": "https://localhost:8080/",
          "height": 282
        }
      },
      "source": [
        "inx=30\n",
        "test_image=test_images[inx]\n",
        "plt.imshow(test_image,cmap='gray')\n",
        "plt.show()\n",
        "print(\"Label: \", labels[test_labels[inx]])"
      ],
      "execution_count": 21,
      "outputs": [
        {
          "output_type": "display_data",
          "data": {
            "image/png": "[encoded data removed]",
            "text/plain": [
              "<Figure size 432x288 with 1 Axes>"
            ]
          },
          "metadata": {
            "tags": [],
            "needs_background": "light"
          }
        },
        {
          "output_type": "stream",
          "text": [
            "Label:  Bag\n"
          ],
          "name": "stdout"
        }
      ]
    },
    {
      "cell_type": "code",
      "metadata": {
        "id": "ewkotTXPpTl3",
        "outputId": "b2051ccd-f3ca-4b8a-8eac-5ad700f5db78",
        "colab": {
          "base_uri": "https://localhost:8080/"
        }
      },
      "source": [
        "predictions=model.predict(test_image[np.newaxis,...,np.newaxis])\n",
        "print(f\"Model_prediction: {labels[np.argmax(predictions)]}\")"
      ],
      "execution_count": 24,
      "outputs": [
        {
          "output_type": "stream",
          "text": [
            "Model_prediction: Bag\n"
          ],
          "name": "stdout"
        }
      ]
    },
    {
      "cell_type": "code",
      "metadata": {
        "id": "-FxevUwcp3UQ"
      },
      "source": [
        ""
      ],
      "execution_count": null,
      "outputs": []
    }
  ]
}