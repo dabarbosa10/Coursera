{
 "cells": [
  {
   "cell_type": "code",
   "execution_count": 25,
   "metadata": {},
   "outputs": [],
   "source": [
    "def fra(values,weights, Capacity):\n",
    "    n=len(values)\n",
    "    den=[]\n",
    "    for i in range(n):\n",
    "        den.append(values[i]/weights[i])\n",
    "    den.sort(reverse=True)\n",
    "    for i in den:\n",
    "        print(i, weights[i])\n",
    "    return den\n",
    "        "
   ]
  },
  {
   "cell_type": "code",
   "execution_count": 26,
   "metadata": {},
   "outputs": [],
   "source": [
    "val=[280,100,120,120]\n",
    "wei=[40,10,20,24]"
   ]
  },
  {
   "cell_type": "code",
   "execution_count": 36,
   "metadata": {},
   "outputs": [],
   "source": [
    "def knapsack(values,weights,capacity):\n",
    "    n = len(values)\n",
    "\n",
    "    def score(i) : \n",
    "        print(values[i]/weights[i])\n",
    "        return values[i]/weights[i]\n",
    "\n",
    "    items = sorted(range(n)  , key=score , reverse = True)\n",
    "    print(items)\n",
    "    sel, value,weight = [],0,0\n",
    "    for i in items:\n",
    "        if weight +weights[i] <= capacity:\n",
    "            sel += [i]\n",
    "            weight += weights[i]\n",
    "            value += values [i]\n",
    "    return value"
   ]
  },
  {
   "cell_type": "code",
   "execution_count": 37,
   "metadata": {},
   "outputs": [
    {
     "name": "stdout",
     "output_type": "stream",
     "text": [
      "7.0\n",
      "10.0\n",
      "6.0\n",
      "5.0\n",
      "[1, 0, 2, 3]\n"
     ]
    },
    {
     "data": {
      "text/plain": [
       "380"
      ]
     },
     "execution_count": 37,
     "metadata": {},
     "output_type": "execute_result"
    }
   ],
   "source": [
    "knapsack(val,wei,60)"
   ]
  },
  {
   "cell_type": "code",
   "execution_count": 40,
   "metadata": {},
   "outputs": [],
   "source": [
    "def fractionalknapsack(values,weights,Capacity):\n",
    "    n = len(values)\n",
    "\n",
    "    def score(i) : return values[i]/weights[i]\n",
    "\n",
    "    items = sorted(range(n)  , key=score , reverse = True)\n",
    "    sel, value,weight = [],0,0\n",
    "    for i in items:\n",
    "        if weight +weights[i] <= Capacity:\n",
    "            sel += [i]\n",
    "            weight += weights[i]\n",
    "            value += values [i]\n",
    "    return value"
   ]
  },
  {
   "cell_type": "code",
   "execution_count": 41,
   "metadata": {},
   "outputs": [
    {
     "data": {
      "text/plain": [
       "380"
      ]
     },
     "execution_count": 41,
     "metadata": {},
     "output_type": "execute_result"
    }
   ],
   "source": [
    "fractionalknapsack(val,wei,60)"
   ]
  },
  {
   "cell_type": "code",
   "execution_count": null,
   "metadata": {},
   "outputs": [],
   "source": []
  }
 ],
 "metadata": {
  "kernelspec": {
   "display_name": "Python 3",
   "language": "python",
   "name": "python3"
  },
  "language_info": {
   "codemirror_mode": {
    "name": "ipython",
    "version": 3
   },
   "file_extension": ".py",
   "mimetype": "text/x-python",
   "name": "python",
   "nbconvert_exporter": "python",
   "pygments_lexer": "ipython3",
   "version": "3.7.6"
  }
 },
 "nbformat": 4,
 "nbformat_minor": 4
}
